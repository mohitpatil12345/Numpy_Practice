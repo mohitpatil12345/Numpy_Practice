{
 "cells": [
  {
   "cell_type": "code",
   "execution_count": 17,
   "id": "7c7097d9-93b7-4d9c-8cfe-ff4c9ee018d0",
   "metadata": {},
   "outputs": [
    {
     "name": "stdout",
     "output_type": "stream",
     "text": [
      "Requirement already satisfied: numpy in c:\\users\\admin\\anaconda4\\lib\\site-packages (1.21.5)\n"
     ]
    }
   ],
   "source": [
    "import numpy as np\n",
    "!pip install numpy "
   ]
  },
  {
   "cell_type": "code",
   "execution_count": 9,
   "id": "cf33ad72-7172-4e8b-96bf-11eb186e56f3",
   "metadata": {},
   "outputs": [
    {
     "data": {
      "text/plain": [
       "array([0, 1, 2, 3, 4, 5, 6, 7, 8, 9])"
      ]
     },
     "execution_count": 9,
     "metadata": {},
     "output_type": "execute_result"
    }
   ],
   "source": [
    "arr = np.array(range(10))\n",
    "arr"
   ]
  },
  {
   "cell_type": "code",
   "execution_count": 4,
   "id": "a19837c2-e25a-4cbb-91db-b91e474ccb6a",
   "metadata": {},
   "outputs": [
    {
     "data": {
      "text/plain": [
       "1"
      ]
     },
     "execution_count": 4,
     "metadata": {},
     "output_type": "execute_result"
    }
   ],
   "source": [
    "arr.ndim"
   ]
  },
  {
   "cell_type": "code",
   "execution_count": 5,
   "id": "95b6db9b-499e-47ed-83e3-3065e24360ef",
   "metadata": {},
   "outputs": [
    {
     "data": {
      "text/plain": [
       "array([[0, 1, 2, 3, 4],\n",
       "       [5, 6, 7, 8, 9]])"
      ]
     },
     "execution_count": 5,
     "metadata": {},
     "output_type": "execute_result"
    }
   ],
   "source": [
    "arr.reshape(2,5)"
   ]
  },
  {
   "cell_type": "code",
   "execution_count": 6,
   "id": "d7fafdb9-2692-4828-83f2-4d9874efd94c",
   "metadata": {},
   "outputs": [
    {
     "data": {
      "text/plain": [
       "array([[[0, 1, 2, 3, 4],\n",
       "        [5, 6, 7, 8, 9]]])"
      ]
     },
     "execution_count": 6,
     "metadata": {},
     "output_type": "execute_result"
    }
   ],
   "source": [
    "arr.reshape(1,2,5)"
   ]
  },
  {
   "cell_type": "code",
   "execution_count": 20,
   "id": "b58f07b8-5e3c-4504-b637-c8fe712054fc",
   "metadata": {},
   "outputs": [
    {
     "ename": "ValueError",
     "evalue": "cannot reshape array of size 10 into shape (2,2,5)",
     "output_type": "error",
     "traceback": [
      "\u001b[1;31m---------------------------------------------------------------------------\u001b[0m",
      "\u001b[1;31mValueError\u001b[0m                                Traceback (most recent call last)",
      "\u001b[1;32m~\\AppData\\Local\\Temp\\ipykernel_20448\\3806890295.py\u001b[0m in \u001b[0;36m<module>\u001b[1;34m\u001b[0m\n\u001b[1;32m----> 1\u001b[1;33m \u001b[0marr\u001b[0m\u001b[1;33m.\u001b[0m\u001b[0mreshape\u001b[0m\u001b[1;33m(\u001b[0m\u001b[1;36m2\u001b[0m\u001b[1;33m,\u001b[0m\u001b[1;36m2\u001b[0m\u001b[1;33m,\u001b[0m\u001b[1;36m5\u001b[0m\u001b[1;33m)\u001b[0m\u001b[1;33m\u001b[0m\u001b[1;33m\u001b[0m\u001b[0m\n\u001b[0m\u001b[0;32m      2\u001b[0m \u001b[0marr\u001b[0m\u001b[1;33m\u001b[0m\u001b[1;33m\u001b[0m\u001b[0m\n",
      "\u001b[1;31mValueError\u001b[0m: cannot reshape array of size 10 into shape (2,2,5)"
     ]
    }
   ],
   "source": [
    "arr.reshape(2,2,5)\n",
    "arr"
   ]
  },
  {
   "cell_type": "code",
   "execution_count": 21,
   "id": "1dbc27c9-dea4-43b8-a323-72b90a648602",
   "metadata": {},
   "outputs": [
    {
     "ename": "ValueError",
     "evalue": "cannot reshape array of size 10 into shape (2,2,5)",
     "output_type": "error",
     "traceback": [
      "\u001b[1;31m---------------------------------------------------------------------------\u001b[0m",
      "\u001b[1;31mValueError\u001b[0m                                Traceback (most recent call last)",
      "\u001b[1;32m~\\AppData\\Local\\Temp\\ipykernel_20448\\1539639716.py\u001b[0m in \u001b[0;36m<module>\u001b[1;34m\u001b[0m\n\u001b[1;32m----> 1\u001b[1;33m \u001b[0marr_3d\u001b[0m \u001b[1;33m=\u001b[0m \u001b[0marr\u001b[0m\u001b[1;33m.\u001b[0m\u001b[0mreshape\u001b[0m\u001b[1;33m(\u001b[0m\u001b[1;36m2\u001b[0m\u001b[1;33m,\u001b[0m\u001b[1;36m2\u001b[0m\u001b[1;33m,\u001b[0m\u001b[1;36m5\u001b[0m\u001b[1;33m)\u001b[0m\u001b[1;33m\u001b[0m\u001b[1;33m\u001b[0m\u001b[0m\n\u001b[0m\u001b[0;32m      2\u001b[0m \u001b[0marr_3d\u001b[0m\u001b[1;33m\u001b[0m\u001b[1;33m\u001b[0m\u001b[0m\n",
      "\u001b[1;31mValueError\u001b[0m: cannot reshape array of size 10 into shape (2,2,5)"
     ]
    }
   ],
   "source": [
    "arr_3d = arr.reshape(2,2,5)\n",
    "arr_3d"
   ]
  },
  {
   "cell_type": "code",
   "execution_count": null,
   "id": "b792a117-4dee-4a80-88cc-acd9b87e0ee8",
   "metadata": {},
   "outputs": [],
   "source": []
  },
  {
   "cell_type": "code",
   "execution_count": null,
   "id": "8bf742d3-5658-48b4-9184-406a045306d0",
   "metadata": {},
   "outputs": [],
   "source": []
  },
  {
   "cell_type": "code",
   "execution_count": null,
   "id": "3b313b27-a206-4b7f-97e2-d6b58b99ba65",
   "metadata": {},
   "outputs": [],
   "source": []
  },
  {
   "cell_type": "code",
   "execution_count": null,
   "id": "b65dae3b-0841-4905-bba6-0b59c2502b35",
   "metadata": {},
   "outputs": [],
   "source": []
  },
  {
   "cell_type": "code",
   "execution_count": null,
   "id": "c0db1300-7d0c-43c9-813f-3d9aed2220cb",
   "metadata": {},
   "outputs": [],
   "source": []
  },
  {
   "cell_type": "code",
   "execution_count": null,
   "id": "6bc1db6e-a367-4f19-a5bc-a56d46a498f4",
   "metadata": {},
   "outputs": [],
   "source": []
  },
  {
   "cell_type": "code",
   "execution_count": 25,
   "id": "b83d9249-82d1-4402-9bb4-6015670241c9",
   "metadata": {},
   "outputs": [],
   "source": [
    "arr = np.array(range(20))"
   ]
  },
  {
   "cell_type": "code",
   "execution_count": 31,
   "id": "294092da-e293-4504-b96a-48c71b1f8e24",
   "metadata": {},
   "outputs": [
    {
     "data": {
      "text/plain": [
       "array([[[ 0,  1,  2,  3,  4],\n",
       "        [ 5,  6,  7,  8,  9]],\n",
       "\n",
       "       [[10, 11, 12, 13, 14],\n",
       "        [15, 16, 17, 18, 19]]])"
      ]
     },
     "execution_count": 31,
     "metadata": {},
     "output_type": "execute_result"
    }
   ],
   "source": [
    "arr2 = arr.reshape(2,2,5)\n",
    "arr2"
   ]
  },
  {
   "cell_type": "code",
   "execution_count": 33,
   "id": "95415a0a-6ef7-4e19-86b9-f9a4b76757ac",
   "metadata": {},
   "outputs": [
    {
     "data": {
      "text/plain": [
       "array([5, 6, 7, 8, 9])"
      ]
     },
     "execution_count": 33,
     "metadata": {},
     "output_type": "execute_result"
    }
   ],
   "source": [
    "arr2[0][1]"
   ]
  },
  {
   "cell_type": "code",
   "execution_count": 34,
   "id": "cfb8cd8f-a5e8-42c3-a3ea-dc776a8b2bf7",
   "metadata": {},
   "outputs": [],
   "source": [
    "#3D INDEXING IN NUMPY ARRAY"
   ]
  },
  {
   "cell_type": "code",
   "execution_count": 35,
   "id": "3f6c4f44-f044-4921-9a7b-0fe52c3b5f0f",
   "metadata": {},
   "outputs": [
    {
     "data": {
      "text/plain": [
       "array([[[1, 2, 3],\n",
       "        [4, 5, 6],\n",
       "        [4, 1, 2],\n",
       "        [4, 5, 6]]])"
      ]
     },
     "execution_count": 35,
     "metadata": {},
     "output_type": "execute_result"
    }
   ],
   "source": [
    "arr_3d = np.array([[[1,2,3],[4,5,6],[4,1,2],[4,5,6]]])\n",
    "arr_3d"
   ]
  },
  {
   "cell_type": "code",
   "execution_count": 36,
   "id": "8f3fb088-2052-4d40-967d-8533fb37da18",
   "metadata": {},
   "outputs": [
    {
     "data": {
      "text/plain": [
       "3"
      ]
     },
     "execution_count": 36,
     "metadata": {},
     "output_type": "execute_result"
    }
   ],
   "source": [
    "arr_3d.ndim"
   ]
  },
  {
   "cell_type": "code",
   "execution_count": 37,
   "id": "a8837972-d139-4e80-b883-14b5b22218b6",
   "metadata": {},
   "outputs": [
    {
     "data": {
      "text/plain": [
       "(1, 4, 3)"
      ]
     },
     "execution_count": 37,
     "metadata": {},
     "output_type": "execute_result"
    }
   ],
   "source": [
    "arr_3d.shape"
   ]
  },
  {
   "cell_type": "code",
   "execution_count": 40,
   "id": "aee0277d-a167-4f58-b2f1-5edd848e074f",
   "metadata": {},
   "outputs": [
    {
     "data": {
      "text/plain": [
       "array([5, 6])"
      ]
     },
     "execution_count": 40,
     "metadata": {},
     "output_type": "execute_result"
    }
   ],
   "source": [
    "arr_3d[0,1,1:3]"
   ]
  },
  {
   "cell_type": "code",
   "execution_count": 41,
   "id": "575d612b-0081-4c7b-b9a8-6a4e2923ab61",
   "metadata": {},
   "outputs": [],
   "source": [
    "#2D arrayin numpy"
   ]
  },
  {
   "cell_type": "code",
   "execution_count": 45,
   "id": "84d8d3d2-c948-446c-9e1b-20c584536082",
   "metadata": {},
   "outputs": [
    {
     "data": {
      "text/plain": [
       "(3, 2)"
      ]
     },
     "execution_count": 45,
     "metadata": {},
     "output_type": "execute_result"
    }
   ],
   "source": [
    "arr_2d= np.array([[2,3],[4,5],[6,7]])\n",
    "arr_2d.shape\n"
   ]
  },
  {
   "cell_type": "code",
   "execution_count": 46,
   "id": "94b05d92-79a7-4786-9fda-8fc872530db1",
   "metadata": {},
   "outputs": [
    {
     "data": {
      "text/plain": [
       "2"
      ]
     },
     "execution_count": 46,
     "metadata": {},
     "output_type": "execute_result"
    }
   ],
   "source": [
    "arr_2d.ndim"
   ]
  },
  {
   "cell_type": "code",
   "execution_count": 47,
   "id": "8d626a9a-a103-4922-8914-8ce523c0a3e3",
   "metadata": {},
   "outputs": [
    {
     "data": {
      "text/plain": [
       "array([[2, 3],\n",
       "       [4, 5],\n",
       "       [6, 7]])"
      ]
     },
     "execution_count": 47,
     "metadata": {},
     "output_type": "execute_result"
    }
   ],
   "source": [
    "arr_2d"
   ]
  },
  {
   "cell_type": "code",
   "execution_count": 56,
   "id": "29732877-a967-42b7-a530-e7b4c54837a4",
   "metadata": {},
   "outputs": [
    {
     "data": {
      "text/plain": [
       "array([3, 5, 7])"
      ]
     },
     "execution_count": 56,
     "metadata": {},
     "output_type": "execute_result"
    }
   ],
   "source": [
    "arr_2d[0:3,1]"
   ]
  },
  {
   "cell_type": "code",
   "execution_count": null,
   "id": "b2728bae-f861-47ca-ab2d-c7da0a40de23",
   "metadata": {},
   "outputs": [],
   "source": [
    "#Data types in numpy "
   ]
  },
  {
   "cell_type": "code",
   "execution_count": 57,
   "id": "be86a6ea-036e-4d11-b208-6cb3e384db33",
   "metadata": {},
   "outputs": [
    {
     "data": {
      "text/plain": [
       "dtype('int32')"
      ]
     },
     "execution_count": 57,
     "metadata": {},
     "output_type": "execute_result"
    }
   ],
   "source": [
    "arr_2d.dtype"
   ]
  },
  {
   "cell_type": "code",
   "execution_count": 62,
   "id": "a004d3bd-1562-4934-9b66-a4b90c413376",
   "metadata": {},
   "outputs": [],
   "source": [
    "arr_ch = np.array([65,99,'Hello World', 9])"
   ]
  },
  {
   "cell_type": "code",
   "execution_count": 63,
   "id": "b5815389-4484-4129-b806-7f3bc36d6e09",
   "metadata": {},
   "outputs": [
    {
     "data": {
      "text/plain": [
       "dtype('<U11')"
      ]
     },
     "execution_count": 63,
     "metadata": {},
     "output_type": "execute_result"
    }
   ],
   "source": [
    "arr_ch.dtype"
   ]
  },
  {
   "cell_type": "code",
   "execution_count": 64,
   "id": "39adcb58-52dd-4105-805b-88d22c8debe0",
   "metadata": {},
   "outputs": [
    {
     "data": {
      "text/plain": [
       "'Hello World'"
      ]
     },
     "execution_count": 64,
     "metadata": {},
     "output_type": "execute_result"
    }
   ],
   "source": [
    "arr_ch[2]"
   ]
  },
  {
   "cell_type": "code",
   "execution_count": 65,
   "id": "02d4f66a-8a43-4516-9f0b-d953f9e99ad8",
   "metadata": {},
   "outputs": [
    {
     "data": {
      "text/plain": [
       "dtype('<U11')"
      ]
     },
     "execution_count": 65,
     "metadata": {},
     "output_type": "execute_result"
    }
   ],
   "source": [
    "arr_ch[2].dtype"
   ]
  },
  {
   "cell_type": "code",
   "execution_count": 66,
   "id": "0aafe596-28f8-498f-8a44-61a033cabf85",
   "metadata": {},
   "outputs": [
    {
     "data": {
      "text/plain": [
       "array(['65', '99', 'Hello World', '9'], dtype='<U11')"
      ]
     },
     "execution_count": 66,
     "metadata": {},
     "output_type": "execute_result"
    }
   ],
   "source": [
    "arr_ch"
   ]
  },
  {
   "cell_type": "code",
   "execution_count": 69,
   "id": "6239bc70-c684-4244-985e-5daf622d2f7b",
   "metadata": {},
   "outputs": [],
   "source": [
    "arr_ch = np.array(['65', '99', 'Hello World', '9'], dtype='S')"
   ]
  },
  {
   "cell_type": "code",
   "execution_count": 70,
   "id": "c4592818-669a-4fcb-a738-fecd86324005",
   "metadata": {},
   "outputs": [
    {
     "data": {
      "text/plain": [
       "array([b'65', b'99', b'Hello World', b'9'], dtype='|S11')"
      ]
     },
     "execution_count": 70,
     "metadata": {},
     "output_type": "execute_result"
    }
   ],
   "source": [
    "arr_ch"
   ]
  },
  {
   "cell_type": "code",
   "execution_count": 71,
   "id": "70f73005-c642-46fb-b35b-a71c0a455944",
   "metadata": {},
   "outputs": [
    {
     "data": {
      "text/plain": [
       "b'Hello World'"
      ]
     },
     "execution_count": 71,
     "metadata": {},
     "output_type": "execute_result"
    }
   ],
   "source": [
    "arr_ch[2]"
   ]
  },
  {
   "cell_type": "code",
   "execution_count": 72,
   "id": "7cc580f2-8217-4d86-b88c-7b8bdcf43f2a",
   "metadata": {},
   "outputs": [
    {
     "data": {
      "text/plain": [
       "'Hello World'"
      ]
     },
     "execution_count": 72,
     "metadata": {},
     "output_type": "execute_result"
    }
   ],
   "source": [
    "arr_ch[2].decode()"
   ]
  },
  {
   "cell_type": "code",
   "execution_count": 73,
   "id": "4575be8e-5d10-41f9-8afd-7b51581b5fd9",
   "metadata": {},
   "outputs": [
    {
     "data": {
      "text/plain": [
       "array([ 1,  2,  3,  4,  5,  6,  7,  8,  9, 10])"
      ]
     },
     "execution_count": 73,
     "metadata": {},
     "output_type": "execute_result"
    }
   ],
   "source": [
    "arr1 = np.arange(1,11)\n",
    "arr1"
   ]
  },
  {
   "cell_type": "code",
   "execution_count": 75,
   "id": "208409b0-d030-40b1-a0ed-4ac731c13aa2",
   "metadata": {},
   "outputs": [
    {
     "data": {
      "text/plain": [
       "array([[ 1,  2],\n",
       "       [ 3,  4],\n",
       "       [ 5,  6],\n",
       "       [ 7,  8],\n",
       "       [ 9, 10]])"
      ]
     },
     "execution_count": 75,
     "metadata": {},
     "output_type": "execute_result"
    }
   ],
   "source": [
    "arr_2dg = arr1.reshape(5,2)\n",
    "arr_2dg"
   ]
  },
  {
   "cell_type": "code",
   "execution_count": 76,
   "id": "e850ee47-f2fc-4198-b04a-d34121f3671f",
   "metadata": {},
   "outputs": [],
   "source": [
    "import time"
   ]
  },
  {
   "cell_type": "code",
   "execution_count": 77,
   "id": "f3a36e66-cd56-42d7-8bd9-9c752453bc04",
   "metadata": {},
   "outputs": [
    {
     "name": "stdout",
     "output_type": "stream",
     "text": [
      "[1 2]\n",
      "[3 4]\n",
      "[5 6]\n",
      "[7 8]\n",
      "[ 9 10]\n"
     ]
    }
   ],
   "source": [
    "for row in arr_2dg:\n",
    "    print(row)\n",
    "    time.sleep(1)"
   ]
  },
  {
   "cell_type": "code",
   "execution_count": 78,
   "id": "7e9a3918-2152-49f4-b89b-de8d1be3c041",
   "metadata": {},
   "outputs": [
    {
     "name": "stdout",
     "output_type": "stream",
     "text": [
      "1\n",
      "2\n",
      "3\n",
      "4\n",
      "5\n",
      "6\n",
      "7\n",
      "8\n",
      "9\n",
      "10\n"
     ]
    }
   ],
   "source": [
    "for row in arr_2dg:\n",
    "    for element in row:\n",
    "        print(element)\n",
    "    time.sleep(1)    "
   ]
  },
  {
   "cell_type": "code",
   "execution_count": 79,
   "id": "a64ee2f6-9c61-4655-8430-c38e1a62c0ae",
   "metadata": {},
   "outputs": [],
   "source": [
    "arrr = np.array([1,2,3])"
   ]
  },
  {
   "cell_type": "code",
   "execution_count": 80,
   "id": "1e6aa0e7-cd1c-458e-ac53-56b82c6ce876",
   "metadata": {},
   "outputs": [
    {
     "name": "stdout",
     "output_type": "stream",
     "text": [
      "(0,) 1\n",
      "(1,) 2\n",
      "(2,) 3\n"
     ]
    }
   ],
   "source": [
    "for x,y in np.ndenumerate(arrr):\n",
    "    print(x,y)\n",
    "    "
   ]
  },
  {
   "cell_type": "code",
   "execution_count": 81,
   "id": "275a9fdb-34e5-4325-a21b-fee56d8671e9",
   "metadata": {},
   "outputs": [],
   "source": [
    "#spliting arrays in numpy "
   ]
  },
  {
   "cell_type": "code",
   "execution_count": 96,
   "id": "bb874417-793f-43a0-a7a7-437353240189",
   "metadata": {},
   "outputs": [
    {
     "name": "stdout",
     "output_type": "stream",
     "text": [
      "[array([1, 2, 3]), array([4, 5, 6]), array([7, 8, 9])]\n"
     ]
    }
   ],
   "source": [
    "arrr1 = np.arange(1,10)\n",
    "arrr1\n",
    "print(np.split(arrr1,3))"
   ]
  },
  {
   "cell_type": "code",
   "execution_count": 85,
   "id": "b5c2d45c-0570-4849-a661-155ee47d2974",
   "metadata": {},
   "outputs": [
    {
     "data": {
      "text/plain": [
       "[array([1]),\n",
       " array([2]),\n",
       " array([3]),\n",
       " array([4]),\n",
       " array([5]),\n",
       " array([6]),\n",
       " array([7]),\n",
       " array([8]),\n",
       " array([9])]"
      ]
     },
     "execution_count": 85,
     "metadata": {},
     "output_type": "execute_result"
    }
   ],
   "source": [
    "np.split(arrr1,9)"
   ]
  },
  {
   "cell_type": "code",
   "execution_count": 92,
   "id": "3d4ada23-8361-4a63-8e9a-489f999f7070",
   "metadata": {},
   "outputs": [
    {
     "data": {
      "text/plain": [
       "[array([1, 2, 3]), array([4, 5, 6]), array([7, 8, 9])]"
      ]
     },
     "execution_count": 92,
     "metadata": {},
     "output_type": "execute_result"
    }
   ],
   "source": [
    "np.split(arrr1,3)"
   ]
  },
  {
   "cell_type": "code",
   "execution_count": 100,
   "id": "e57228f5-f11c-490c-9708-9276eec11867",
   "metadata": {},
   "outputs": [
    {
     "name": "stdout",
     "output_type": "stream",
     "text": [
      "[array([1, 2, 3]), array([4, 5]), array([6, 7]), array([8, 9])]\n"
     ]
    }
   ],
   "source": [
    "g=np.array_split(arrr1,4)\n",
    "print(g)"
   ]
  },
  {
   "cell_type": "code",
   "execution_count": 101,
   "id": "433a45d9-675f-4c8f-b437-41079e0f9ddb",
   "metadata": {},
   "outputs": [],
   "source": [
    "#Random varible using in Numpy "
   ]
  },
  {
   "cell_type": "code",
   "execution_count": 105,
   "id": "fc1cd106-ce7a-4286-99f2-724cd5751a59",
   "metadata": {},
   "outputs": [
    {
     "name": "stdout",
     "output_type": "stream",
     "text": [
      "24\n"
     ]
    }
   ],
   "source": [
    "from numpy import random\n",
    "x = random.randint(100)\n",
    "print(x) #This X is change every time whenever you run it"
   ]
  },
  {
   "cell_type": "code",
   "execution_count": 110,
   "id": "e266441e-d7f7-4d2a-9a1b-6b56441edc90",
   "metadata": {},
   "outputs": [
    {
     "name": "stdout",
     "output_type": "stream",
     "text": [
      "[[82 23 73]\n",
      " [37 99 27]\n",
      " [64 44 56]]\n"
     ]
    }
   ],
   "source": [
    "x1 = random.randint(100,size = (3,3))\n",
    "print(x1) #Every time this matrix values will change "
   ]
  },
  {
   "cell_type": "code",
   "execution_count": 114,
   "id": "103ddfc3-d15f-421e-ba59-f686a6479aea",
   "metadata": {},
   "outputs": [
    {
     "data": {
      "text/plain": [
       "0.9292384685926549"
      ]
     },
     "execution_count": 114,
     "metadata": {},
     "output_type": "execute_result"
    }
   ],
   "source": [
    "#print 0 to 1 float values \n",
    "random.rand()"
   ]
  },
  {
   "cell_type": "code",
   "execution_count": 115,
   "id": "36f4680b-71e6-4ea7-8b65-b445c4c09f37",
   "metadata": {},
   "outputs": [
    {
     "data": {
      "text/plain": [
       "array([0.93920189, 0.33833609, 0.79076345, 0.6333995 , 0.59169833,\n",
       "       0.8734298 , 0.78261781])"
      ]
     },
     "execution_count": 115,
     "metadata": {},
     "output_type": "execute_result"
    }
   ],
   "source": [
    "random.rand(7)"
   ]
  },
  {
   "cell_type": "code",
   "execution_count": 119,
   "id": "01aef629-59f6-4d35-aac1-ddc2e48f3848",
   "metadata": {},
   "outputs": [
    {
     "data": {
      "text/plain": [
       "7"
      ]
     },
     "execution_count": 119,
     "metadata": {},
     "output_type": "execute_result"
    }
   ],
   "source": [
    "#print random choice number\n",
    "random.choice([1,2,3,4,5,5,6,7,8,9])"
   ]
  },
  {
   "cell_type": "code",
   "execution_count": 123,
   "id": "d6a6a7a3-1cf9-499a-9860-cb01e9bdd3fe",
   "metadata": {},
   "outputs": [
    {
     "data": {
      "text/plain": [
       "array([[1, 3],\n",
       "       [1, 5]])"
      ]
     },
     "execution_count": 123,
     "metadata": {},
     "output_type": "execute_result"
    }
   ],
   "source": [
    "random.choice([1,2,3,4,5,5,6,7,8,9],size=(2,2))"
   ]
  },
  {
   "cell_type": "code",
   "execution_count": 126,
   "id": "03a5c2a5-ca44-497b-b284-a654206bd036",
   "metadata": {},
   "outputs": [
    {
     "data": {
      "text/plain": [
       "array([[3, 1, 4],\n",
       "       [3, 1, 9],\n",
       "       [9, 5, 4],\n",
       "       [1, 6, 8],\n",
       "       [6, 1, 4]])"
      ]
     },
     "execution_count": 126,
     "metadata": {},
     "output_type": "execute_result"
    }
   ],
   "source": [
    "random.choice([1,2,3,4,5,5,6,7,8,9],size=(5,3))"
   ]
  },
  {
   "cell_type": "code",
   "execution_count": 131,
   "id": "d65e4fb3-58e1-464d-a499-ba83596a48e0",
   "metadata": {},
   "outputs": [
    {
     "ename": "ValueError",
     "evalue": "probabilities do not sum to 1",
     "output_type": "error",
     "traceback": [
      "\u001b[1;31m---------------------------------------------------------------------------\u001b[0m",
      "\u001b[1;31mValueError\u001b[0m                                Traceback (most recent call last)",
      "\u001b[1;32m~\\AppData\\Local\\Temp\\ipykernel_20448\\227183789.py\u001b[0m in \u001b[0;36m<module>\u001b[1;34m\u001b[0m\n\u001b[1;32m----> 1\u001b[1;33m \u001b[0mx4\u001b[0m\u001b[1;33m=\u001b[0m\u001b[0mrandom\u001b[0m\u001b[1;33m.\u001b[0m\u001b[0mchoice\u001b[0m\u001b[1;33m(\u001b[0m\u001b[1;33m[\u001b[0m\u001b[1;36m1\u001b[0m\u001b[1;33m,\u001b[0m\u001b[1;36m2\u001b[0m\u001b[1;33m,\u001b[0m\u001b[1;36m3\u001b[0m\u001b[1;33m,\u001b[0m\u001b[1;36m4\u001b[0m\u001b[1;33m]\u001b[0m\u001b[1;33m,\u001b[0m\u001b[0mp\u001b[0m\u001b[1;33m=\u001b[0m\u001b[1;33m[\u001b[0m\u001b[1;36m0.2\u001b[0m\u001b[1;33m,\u001b[0m\u001b[1;36m0.3\u001b[0m\u001b[1;33m,\u001b[0m\u001b[1;36m0.5\u001b[0m\u001b[1;33m,\u001b[0m\u001b[1;36m0.6\u001b[0m\u001b[1;33m]\u001b[0m\u001b[1;33m,\u001b[0m\u001b[0msize\u001b[0m\u001b[1;33m=\u001b[0m\u001b[1;33m(\u001b[0m\u001b[1;36m2\u001b[0m\u001b[1;33m,\u001b[0m\u001b[1;36m2\u001b[0m\u001b[1;33m)\u001b[0m\u001b[1;33m)\u001b[0m\u001b[1;33m\u001b[0m\u001b[1;33m\u001b[0m\u001b[0m\n\u001b[0m",
      "\u001b[1;32mmtrand.pyx\u001b[0m in \u001b[0;36mnumpy.random.mtrand.RandomState.choice\u001b[1;34m()\u001b[0m\n",
      "\u001b[1;31mValueError\u001b[0m: probabilities do not sum to 1"
     ]
    }
   ],
   "source": [
    "x4=random.choice([1,2,3,4],p=[0.2,0.3,0.5,0.6],size=(2,2))"
   ]
  },
  {
   "cell_type": "code",
   "execution_count": 132,
   "id": "c9ad1c23-d122-420d-b85d-29bfece375b7",
   "metadata": {},
   "outputs": [],
   "source": [
    "g = np.array([3,79,9,7,5,6])"
   ]
  },
  {
   "cell_type": "code",
   "execution_count": 135,
   "id": "6a70b546-c587-4ade-9928-f0f68912e175",
   "metadata": {},
   "outputs": [
    {
     "data": {
      "text/plain": [
       "array([79,  9,  6,  3,  5,  7])"
      ]
     },
     "execution_count": 135,
     "metadata": {},
     "output_type": "execute_result"
    }
   ],
   "source": [
    "random.permutation(g)"
   ]
  },
  {
   "cell_type": "code",
   "execution_count": null,
   "id": "b32812c1-7a31-4d33-974c-58aaf14e9faf",
   "metadata": {},
   "outputs": [],
   "source": []
  },
  {
   "cell_type": "code",
   "execution_count": 2,
   "id": "acacfe88-0812-40bd-a96a-0cea09a5607a",
   "metadata": {},
   "outputs": [],
   "source": [
    "import numpy as np"
   ]
  },
  {
   "cell_type": "code",
   "execution_count": 3,
   "id": "64e13ac4-ddae-4326-b97b-9eac81c18de2",
   "metadata": {},
   "outputs": [],
   "source": [
    "L = [1,2,3,4]"
   ]
  },
  {
   "cell_type": "code",
   "execution_count": 4,
   "id": "b6b1352a-bd94-474c-99f6-c6cfed18e4cc",
   "metadata": {},
   "outputs": [],
   "source": [
    "ar = np.array(L)"
   ]
  },
  {
   "cell_type": "code",
   "execution_count": 5,
   "id": "d9bc69bb-5294-411b-9dce-4388c687d522",
   "metadata": {},
   "outputs": [
    {
     "data": {
      "text/plain": [
       "array([1, 2, 3, 4])"
      ]
     },
     "execution_count": 5,
     "metadata": {},
     "output_type": "execute_result"
    }
   ],
   "source": [
    "ar"
   ]
  },
  {
   "cell_type": "code",
   "execution_count": 6,
   "id": "539eba33-27ab-407f-9437-e38cf18050cd",
   "metadata": {},
   "outputs": [
    {
     "data": {
      "text/plain": [
       "[1, 2, 3, 4]"
      ]
     },
     "execution_count": 6,
     "metadata": {},
     "output_type": "execute_result"
    }
   ],
   "source": [
    "L"
   ]
  },
  {
   "cell_type": "code",
   "execution_count": 7,
   "id": "dd6e239b-7692-4054-9f5e-8fec6095ecb6",
   "metadata": {},
   "outputs": [
    {
     "data": {
      "text/plain": [
       "[1, 2, 3, 4, 1, 2, 3, 4]"
      ]
     },
     "execution_count": 7,
     "metadata": {},
     "output_type": "execute_result"
    }
   ],
   "source": [
    "L * 2"
   ]
  },
  {
   "cell_type": "code",
   "execution_count": 8,
   "id": "d0f84d55-6a50-4106-9422-3c64ce036051",
   "metadata": {},
   "outputs": [
    {
     "data": {
      "text/plain": [
       "array([2, 4, 6, 8])"
      ]
     },
     "execution_count": 8,
     "metadata": {},
     "output_type": "execute_result"
    }
   ],
   "source": [
    "ar * 2"
   ]
  },
  {
   "cell_type": "code",
   "execution_count": null,
   "id": "5e600e48-57b8-4870-a893-c8c0a4f18634",
   "metadata": {},
   "outputs": [],
   "source": []
  },
  {
   "cell_type": "markdown",
   "id": "56f16d47-8f7d-4571-a590-eee054e5bf4c",
   "metadata": {},
   "source": [
    "Complex number in Numpy "
   ]
  },
  {
   "cell_type": "code",
   "execution_count": 9,
   "id": "5c8a954b-178d-45ec-8948-9140f1e30e64",
   "metadata": {},
   "outputs": [
    {
     "name": "stdout",
     "output_type": "stream",
     "text": [
      "[1.+0.j 2.+0.j 3.+0.j]\n"
     ]
    }
   ],
   "source": [
    "a = np.array([1,2,3], dtype = complex)\n",
    "print(a)"
   ]
  },
  {
   "cell_type": "code",
   "execution_count": 10,
   "id": "fc0da173-84e6-4476-8939-43589da9e1fc",
   "metadata": {},
   "outputs": [],
   "source": [
    "a = np.array([[1,2,3],[0,1,4]])"
   ]
  },
  {
   "cell_type": "code",
   "execution_count": 11,
   "id": "4017e4ec-6f67-48c9-a206-80ce2126af04",
   "metadata": {},
   "outputs": [],
   "source": [
    "b = np.zeros((2,3), dtype = np.int16)"
   ]
  },
  {
   "cell_type": "code",
   "execution_count": 12,
   "id": "71ab8e4e-a5b7-483c-b701-7ff716ae634b",
   "metadata": {},
   "outputs": [],
   "source": [
    "c = np.ones((2,3), dtype = np.int16)"
   ]
  },
  {
   "cell_type": "code",
   "execution_count": 13,
   "id": "c7f4bcff-4ca3-4cdd-a08c-ecf0bee2e46b",
   "metadata": {},
   "outputs": [],
   "source": [
    "d = a+b+c"
   ]
  },
  {
   "cell_type": "code",
   "execution_count": 14,
   "id": "3b111346-4676-4c64-9cc0-d347ca94447f",
   "metadata": {},
   "outputs": [
    {
     "name": "stdout",
     "output_type": "stream",
     "text": [
      "5\n"
     ]
    }
   ],
   "source": [
    "print(d[1,2])"
   ]
  },
  {
   "cell_type": "code",
   "execution_count": 15,
   "id": "f5990152-088b-465e-bc6b-b324a983c002",
   "metadata": {},
   "outputs": [
    {
     "name": "stdout",
     "output_type": "stream",
     "text": [
      "[[ 3  7  1]\n",
      " [10  3  2]\n",
      " [ 5  6  7]]\n"
     ]
    }
   ],
   "source": [
    "array = np.array([\n",
    "               [3,7,1],\n",
    "               [10,3,2],\n",
    "               [5,6,7]])\n",
    "print(array)"
   ]
  },
  {
   "cell_type": "code",
   "execution_count": 16,
   "id": "d1c2c6bc-d730-4ba3-b043-cf7bcaf00429",
   "metadata": {},
   "outputs": [
    {
     "name": "stdout",
     "output_type": "stream",
     "text": [
      "\n"
     ]
    }
   ],
   "source": [
    "print()"
   ]
  },
  {
   "cell_type": "code",
   "execution_count": 19,
   "id": "01676725-3b10-402d-b690-95502b54327a",
   "metadata": {},
   "outputs": [
    {
     "name": "stdout",
     "output_type": "stream",
     "text": [
      "[ 1  2  3  3  5  6  7  7 10]\n"
     ]
    }
   ],
   "source": [
    "print(np.sort(array, axis = None))"
   ]
  },
  {
   "cell_type": "code",
   "execution_count": 20,
   "id": "315fd18b-cdfb-450f-9c91-f5370e40224c",
   "metadata": {},
   "outputs": [
    {
     "name": "stdout",
     "output_type": "stream",
     "text": [
      "[[ 1  3  7]\n",
      " [ 2  3 10]\n",
      " [ 5  6  7]]\n"
     ]
    }
   ],
   "source": [
    "print(np.sort(array, axis = 1))"
   ]
  },
  {
   "cell_type": "code",
   "execution_count": 22,
   "id": "1e6d920c-9945-4588-95e9-beb0e8c2afae",
   "metadata": {},
   "outputs": [
    {
     "name": "stdout",
     "output_type": "stream",
     "text": [
      "[[ 3  3  1]\n",
      " [ 5  6  2]\n",
      " [10  7  7]]\n"
     ]
    }
   ],
   "source": [
    "print(np.sort(array, axis = 0))"
   ]
  },
  {
   "cell_type": "code",
   "execution_count": null,
   "id": "d5542481-541d-45a4-8d7e-78b24316be0e",
   "metadata": {},
   "outputs": [],
   "source": []
  },
  {
   "cell_type": "code",
   "execution_count": null,
   "id": "3230d791-06fa-4895-b086-fa8ab2760004",
   "metadata": {},
   "outputs": [],
   "source": []
  },
  {
   "cell_type": "code",
   "execution_count": null,
   "id": "816b1f9a-39a6-4205-bf66-dd83ec632f25",
   "metadata": {},
   "outputs": [],
   "source": []
  },
  {
   "cell_type": "code",
   "execution_count": null,
   "id": "43b04d79-76c9-4246-9e2e-a2822b5b6003",
   "metadata": {},
   "outputs": [],
   "source": []
  },
  {
   "cell_type": "code",
   "execution_count": null,
   "id": "768836b6-b14b-4b2b-8582-432e0c01e3b1",
   "metadata": {},
   "outputs": [],
   "source": []
  },
  {
   "cell_type": "code",
   "execution_count": null,
   "id": "0ef284c3-2cf6-4c93-ae5c-5f09d4214ace",
   "metadata": {},
   "outputs": [],
   "source": []
  },
  {
   "cell_type": "code",
   "execution_count": null,
   "id": "52285258-c82c-4f7f-9a3d-766bfd6b5f92",
   "metadata": {},
   "outputs": [],
   "source": []
  },
  {
   "cell_type": "code",
   "execution_count": null,
   "id": "cf4a9c95-5d02-4fea-94d2-c9b8c8af7f51",
   "metadata": {},
   "outputs": [],
   "source": []
  },
  {
   "cell_type": "code",
   "execution_count": null,
   "id": "53bd10a9-cd80-4d4b-a17d-6c7dce00e23f",
   "metadata": {},
   "outputs": [],
   "source": []
  },
  {
   "cell_type": "code",
   "execution_count": null,
   "id": "59b43d38-aa24-4a27-9c99-4377810a2773",
   "metadata": {},
   "outputs": [],
   "source": []
  },
  {
   "cell_type": "code",
   "execution_count": null,
   "id": "ee774743-7822-448a-a081-46372253f28a",
   "metadata": {},
   "outputs": [],
   "source": []
  },
  {
   "cell_type": "code",
   "execution_count": null,
   "id": "7c4add97-f117-447b-8fc5-0c04d4ee89f2",
   "metadata": {},
   "outputs": [],
   "source": []
  },
  {
   "cell_type": "code",
   "execution_count": null,
   "id": "60d8b573-a6b3-4e5b-9406-55307f4f7623",
   "metadata": {},
   "outputs": [],
   "source": []
  },
  {
   "cell_type": "code",
   "execution_count": null,
   "id": "ef6340c0-8da9-4b73-9eef-ed546b7f3834",
   "metadata": {},
   "outputs": [],
   "source": []
  },
  {
   "cell_type": "code",
   "execution_count": null,
   "id": "b65e9b08-b257-474a-9a5d-be72d29a53ec",
   "metadata": {},
   "outputs": [],
   "source": []
  },
  {
   "cell_type": "code",
   "execution_count": null,
   "id": "9a3fae32-1c5e-4699-ac16-45b0a14a7a8d",
   "metadata": {},
   "outputs": [],
   "source": []
  },
  {
   "cell_type": "code",
   "execution_count": null,
   "id": "be81e131-4936-4b74-8aff-520c3b6a8b77",
   "metadata": {},
   "outputs": [],
   "source": []
  },
  {
   "cell_type": "code",
   "execution_count": null,
   "id": "010ff72b-99c7-4e3f-9e3a-614f892272ed",
   "metadata": {},
   "outputs": [],
   "source": []
  },
  {
   "cell_type": "code",
   "execution_count": 5,
   "id": "0d6bf9c3-608b-4a68-9a85-8d7227fe14b8",
   "metadata": {},
   "outputs": [
    {
     "name": "stdout",
     "output_type": "stream",
     "text": [
      "20\n"
     ]
    }
   ],
   "source": [
    "a_scaler = np.array(20) \n",
    "a_scaler\n",
    "print(a_scaler)"
   ]
  },
  {
   "cell_type": "code",
   "execution_count": 7,
   "id": "31abb8f8-e704-4c00-b813-8a3ac7823384",
   "metadata": {},
   "outputs": [
    {
     "data": {
      "text/plain": [
       "numpy.ndarray"
      ]
     },
     "execution_count": 7,
     "metadata": {},
     "output_type": "execute_result"
    }
   ],
   "source": [
    "type(a_scaler)"
   ]
  },
  {
   "cell_type": "code",
   "execution_count": 9,
   "id": "0289f6ff-2c7a-48ad-a14c-31c59e7456b2",
   "metadata": {},
   "outputs": [
    {
     "data": {
      "text/plain": [
       "0"
      ]
     },
     "execution_count": 9,
     "metadata": {},
     "output_type": "execute_result"
    }
   ],
   "source": [
    "a_scaler.ndim"
   ]
  },
  {
   "cell_type": "code",
   "execution_count": 12,
   "id": "941eeba2-02b9-43c8-89e8-2f7216659e93",
   "metadata": {},
   "outputs": [
    {
     "name": "stdout",
     "output_type": "stream",
     "text": [
      "[1 2 3 4 5 6]\n"
     ]
    }
   ],
   "source": [
    "#vector\n",
    "a_vector = np.array([1,2,3,4,5,6])\n",
    "print(a_vector)"
   ]
  },
  {
   "cell_type": "code",
   "execution_count": 13,
   "id": "05988da8-bf1c-4614-a799-af96eb85bce0",
   "metadata": {},
   "outputs": [
    {
     "data": {
      "text/plain": [
       "1"
      ]
     },
     "execution_count": 13,
     "metadata": {},
     "output_type": "execute_result"
    }
   ],
   "source": [
    "a_vector.ndim"
   ]
  },
  {
   "cell_type": "code",
   "execution_count": 14,
   "id": "ebd027b2-9000-473f-90d5-1a5287f40700",
   "metadata": {},
   "outputs": [
    {
     "data": {
      "text/plain": [
       "(6,)"
      ]
     },
     "execution_count": 14,
     "metadata": {},
     "output_type": "execute_result"
    }
   ],
   "source": [
    "a_vector.shape"
   ]
  },
  {
   "cell_type": "code",
   "execution_count": 15,
   "id": "8ba0a8ef-9d35-4430-b6a3-eb944fb8de45",
   "metadata": {},
   "outputs": [
    {
     "name": "stdout",
     "output_type": "stream",
     "text": [
      "[[1 2]\n",
      " [3 4]]\n"
     ]
    }
   ],
   "source": [
    "#matrix\n",
    "a_matrix = np.array([[1,2],[3,4]])\n",
    "print(a_matrix)"
   ]
  },
  {
   "cell_type": "code",
   "execution_count": 16,
   "id": "a2742e69-d271-4f21-adff-f283dfed662e",
   "metadata": {},
   "outputs": [
    {
     "data": {
      "text/plain": [
       "2"
      ]
     },
     "execution_count": 16,
     "metadata": {},
     "output_type": "execute_result"
    }
   ],
   "source": [
    "a_matrix.ndim"
   ]
  },
  {
   "cell_type": "code",
   "execution_count": 18,
   "id": "f65935b9-e728-45d7-9862-410b0c360cf4",
   "metadata": {},
   "outputs": [
    {
     "data": {
      "text/plain": [
       "(2, 2)"
      ]
     },
     "execution_count": 18,
     "metadata": {},
     "output_type": "execute_result"
    }
   ],
   "source": [
    "a_matrix.shape #(2,2) is (2 rows, 2 columns)"
   ]
  },
  {
   "cell_type": "code",
   "execution_count": 21,
   "id": "0c870516-49e9-4c74-bb01-92c3d554bbc2",
   "metadata": {},
   "outputs": [
    {
     "name": "stdout",
     "output_type": "stream",
     "text": [
      "[ 1  2  3  4  5  6  7  8  9 10]\n"
     ]
    }
   ],
   "source": [
    "sample_vector = np.arange(1,11) \n",
    "print(sample_vector)"
   ]
  },
  {
   "cell_type": "code",
   "execution_count": 30,
   "id": "629e4146-94eb-4f34-939c-4605731bbd25",
   "metadata": {},
   "outputs": [
    {
     "data": {
      "text/plain": [
       "array([10,  9,  8,  7,  6,  5,  4,  3,  2,  1])"
      ]
     },
     "execution_count": 30,
     "metadata": {},
     "output_type": "execute_result"
    }
   ],
   "source": [
    "sample_vector[::-1]"
   ]
  },
  {
   "cell_type": "code",
   "execution_count": 41,
   "id": "5187faff-f521-4d4a-ae86-637248c4c7ed",
   "metadata": {},
   "outputs": [
    {
     "name": "stdout",
     "output_type": "stream",
     "text": [
      "[[1 2 3]\n",
      " [4 5 6]\n",
      " [7 8 9]]\n"
     ]
    }
   ],
   "source": [
    "sample_matrix = np.arange(1,10).reshape(3,3)\n",
    "print(sample_matrix)"
   ]
  },
  {
   "cell_type": "code",
   "execution_count": 42,
   "id": "e1fd6d46-239d-44d5-9093-3e4235bfffaf",
   "metadata": {},
   "outputs": [
    {
     "data": {
      "text/plain": [
       "(3, 3)"
      ]
     },
     "execution_count": 42,
     "metadata": {},
     "output_type": "execute_result"
    }
   ],
   "source": [
    "sample_matrix.shape\n"
   ]
  },
  {
   "cell_type": "code",
   "execution_count": 43,
   "id": "d33f86b4-4334-496a-99f0-d907fe666b0f",
   "metadata": {},
   "outputs": [
    {
     "data": {
      "text/plain": [
       "3"
      ]
     },
     "execution_count": 43,
     "metadata": {},
     "output_type": "execute_result"
    }
   ],
   "source": [
    "sample_matrix.shape[0] #axis 0 is rows(y)"
   ]
  },
  {
   "cell_type": "code",
   "execution_count": 44,
   "id": "4b602772-1dec-4158-b795-eedd5d7cb212",
   "metadata": {},
   "outputs": [
    {
     "data": {
      "text/plain": [
       "3"
      ]
     },
     "execution_count": 44,
     "metadata": {},
     "output_type": "execute_result"
    }
   ],
   "source": [
    "sample_matrix.shape[1] #axis 1 is columns(x)"
   ]
  },
  {
   "cell_type": "code",
   "execution_count": 45,
   "id": "6b507d7c-4975-4be5-8221-5e9b3c8de582",
   "metadata": {},
   "outputs": [
    {
     "data": {
      "text/plain": [
       "array([[5, 6],\n",
       "       [8, 9]])"
      ]
     },
     "execution_count": 45,
     "metadata": {},
     "output_type": "execute_result"
    }
   ],
   "source": [
    "sample_matrix[1:, 1:]"
   ]
  },
  {
   "cell_type": "code",
   "execution_count": 55,
   "id": "8c7b6e2c-351d-47b7-be81-c537bb8ea8d3",
   "metadata": {},
   "outputs": [
    {
     "data": {
      "text/plain": [
       "array([[6],\n",
       "       [9]])"
      ]
     },
     "execution_count": 55,
     "metadata": {},
     "output_type": "execute_result"
    }
   ],
   "source": [
    "sample_matrix[1:3,2:3]"
   ]
  },
  {
   "cell_type": "code",
   "execution_count": 56,
   "id": "9d7b6e5b-c0af-4b75-921f-e76f73514937",
   "metadata": {},
   "outputs": [
    {
     "data": {
      "text/plain": [
       "array([[4, 5],\n",
       "       [7, 8]])"
      ]
     },
     "execution_count": 56,
     "metadata": {},
     "output_type": "execute_result"
    }
   ],
   "source": [
    "sample_matrix[1:3,0:2]"
   ]
  },
  {
   "cell_type": "code",
   "execution_count": 57,
   "id": "48d2840a-7df4-441c-9f9d-b78efa0f6f07",
   "metadata": {},
   "outputs": [
    {
     "data": {
      "text/plain": [
       "array([[2, 3],\n",
       "       [5, 6]])"
      ]
     },
     "execution_count": 57,
     "metadata": {},
     "output_type": "execute_result"
    }
   ],
   "source": [
    "sample_matrix[0:2,1:3]"
   ]
  },
  {
   "cell_type": "code",
   "execution_count": 62,
   "id": "7be047ce-32c0-4baf-8625-965dce236173",
   "metadata": {},
   "outputs": [
    {
     "data": {
      "text/plain": [
       "array([[1, 2],\n",
       "       [4, 5]])"
      ]
     },
     "execution_count": 62,
     "metadata": {},
     "output_type": "execute_result"
    }
   ],
   "source": [
    "sample_matrix[0:2,0:2]"
   ]
  },
  {
   "cell_type": "code",
   "execution_count": 67,
   "id": "ccb63e4a-7f33-4fcd-aa6b-6c05b41ac1a5",
   "metadata": {},
   "outputs": [
    {
     "data": {
      "text/plain": [
       "array([[2, 3],\n",
       "       [5, 6]])"
      ]
     },
     "execution_count": 67,
     "metadata": {},
     "output_type": "execute_result"
    }
   ],
   "source": [
    "sample_matrix[0:2,1:3]"
   ]
  },
  {
   "cell_type": "code",
   "execution_count": 69,
   "id": "f2a13fbc-7c45-4fb4-bede-6c04c6981397",
   "metadata": {},
   "outputs": [
    {
     "name": "stdout",
     "output_type": "stream",
     "text": [
      "[[[ 1  2  3]\n",
      "  [ 4  5  6]\n",
      "  [ 7  8  9]]\n",
      "\n",
      " [[10 11 12]\n",
      "  [13 14 15]\n",
      "  [16 17 18]]\n",
      "\n",
      " [[19 20 21]\n",
      "  [22 23 24]\n",
      "  [25 26 27]]]\n"
     ]
    }
   ],
   "source": [
    "#tensor\n",
    "\n",
    "a_tensor = np.arange(1,28).reshape(3,3,3)\n",
    "print(a_tensor)"
   ]
  },
  {
   "cell_type": "code",
   "execution_count": 70,
   "id": "0ed769c0-c18f-43e0-a249-c2ec0d240186",
   "metadata": {},
   "outputs": [
    {
     "data": {
      "text/plain": [
       "3"
      ]
     },
     "execution_count": 70,
     "metadata": {},
     "output_type": "execute_result"
    }
   ],
   "source": [
    "a_tensor.ndim"
   ]
  },
  {
   "cell_type": "code",
   "execution_count": null,
   "id": "5cb72e33-4b73-4573-9b34-e56d295d6198",
   "metadata": {},
   "outputs": [],
   "source": []
  },
  {
   "cell_type": "code",
   "execution_count": 4,
   "id": "bc1e4370-f876-47eb-8e6f-f3ba5f3cbd92",
   "metadata": {},
   "outputs": [
    {
     "name": "stdout",
     "output_type": "stream",
     "text": [
      "[[2 3]\n",
      " [4 5]\n",
      " [6 9]]\n"
     ]
    }
   ],
   "source": [
    "a = np.array([[2,3], [4,5], [6,9]])\n",
    "print(a)"
   ]
  },
  {
   "cell_type": "code",
   "execution_count": null,
   "id": "a199d6cf-deb3-4127-81c1-afea40754a99",
   "metadata": {},
   "outputs": [],
   "source": []
  },
  {
   "cell_type": "code",
   "execution_count": null,
   "id": "51025aca-0f94-4d63-ba44-f3e35b694ca0",
   "metadata": {},
   "outputs": [],
   "source": []
  },
  {
   "cell_type": "code",
   "execution_count": 5,
   "id": "7aae99a7-7e14-4775-bb76-722a58752119",
   "metadata": {},
   "outputs": [
    {
     "name": "stdout",
     "output_type": "stream",
     "text": [
      "[[11 13 15]\n",
      " [17 19 21]]\n"
     ]
    }
   ],
   "source": [
    "b = np.array([[1,2,3],\n",
    "              [4,5,6]])\n",
    "\n",
    "c = np.array([[10,11,12],\n",
    "              [13,14,15]])\n",
    "\n",
    "D = b + c\n",
    "print(D)"
   ]
  },
  {
   "cell_type": "code",
   "execution_count": 7,
   "id": "ac131311-a8b7-4837-8e2d-52b1e437db2a",
   "metadata": {},
   "outputs": [
    {
     "name": "stdout",
     "output_type": "stream",
     "text": [
      "[[41 67]\n",
      " [53 87]]\n"
     ]
    }
   ],
   "source": [
    "A = [[6,7],\n",
    "    [8,9]]\n",
    "\n",
    "B = [[1,3],\n",
    "    [5,7]]\n",
    "\n",
    "print(np.dot(A,B))"
   ]
  },
  {
   "cell_type": "code",
   "execution_count": 12,
   "id": "b1c33c58-2c50-4c8c-bfde-1462df8a2d10",
   "metadata": {},
   "outputs": [
    {
     "name": "stdout",
     "output_type": "stream",
     "text": [
      "Matrix b : \n",
      " [[1. 0.]\n",
      " [0. 1.]]\n",
      "\n",
      "Matrix a : \n",
      " [[1. 0. 0. 0.]\n",
      " [0. 1. 0. 0.]\n",
      " [0. 0. 1. 0.]\n",
      " [0. 0. 0. 1.]]\n"
     ]
    }
   ],
   "source": [
    "import numpy as np\n",
    "\n",
    "b = np.identity(2, dtype = float)\n",
    "print(\"Matrix b : \\n\", b)\n",
    "\n",
    "c = np.identity(4)\n",
    "print(\"\\nMatrix a : \\n\", c)\n"
   ]
  },
  {
   "cell_type": "code",
   "execution_count": 19,
   "id": "deef6602-5970-4a95-9654-21bf33ea95d4",
   "metadata": {},
   "outputs": [
    {
     "name": "stdout",
     "output_type": "stream",
     "text": [
      "[ 1  2  3  4  5  6  7  8  9 10 11 12]\n",
      "##################################\n",
      "[[[ 1  2]\n",
      "  [ 3  4]\n",
      "  [ 5  6]]\n",
      "\n",
      " [[ 7  8]\n",
      "  [ 9 10]\n",
      "  [11 12]]]\n"
     ]
    }
   ],
   "source": [
    "arr = np.array([1,2,3,4,5,6,7,8,9,10,11,12])\n",
    "\n",
    "newarr = arr.reshape(2,3,2)\n",
    "print(arr)\n",
    "\n",
    "print(\"##################################\")\n",
    "\n",
    "print(newarr)"
   ]
  },
  {
   "cell_type": "code",
   "execution_count": 22,
   "id": "f711b101-3a3a-41a6-a2cf-7cda3b0cfdbb",
   "metadata": {},
   "outputs": [
    {
     "name": "stdout",
     "output_type": "stream",
     "text": [
      "[False False False False False  True  True]\n"
     ]
    }
   ],
   "source": [
    "x = np.array([5, 6, 7 ,4 , 3, 2, 1])\n",
    "y = 2 >= x\n",
    "print(y)"
   ]
  },
  {
   "cell_type": "code",
   "execution_count": 26,
   "id": "a62d94de-aef4-46bd-a0da-d2092360defa",
   "metadata": {},
   "outputs": [
    {
     "name": "stdout",
     "output_type": "stream",
     "text": [
      "[[11.21 19.21]\n",
      " [46.21 18.23]\n",
      " [29.21 21.21]]\n",
      "After coverting  numpy float array to int array\n",
      "[[11 19]\n",
      " [46 18]\n",
      " [29 21]]\n"
     ]
    }
   ],
   "source": [
    "og_arr = np.array([[11.21, 19.21], [46.21, 18.23], [29.21, 21.21]])\n",
    "print(og_arr)\n",
    "\n",
    "print(\"After coverting  numpy float array to int array\")\n",
    "int_array = og_arr.astype(int)\n",
    "print(int_array)"
   ]
  },
  {
   "cell_type": "code",
   "execution_count": 29,
   "id": "3a420668-d062-4ac4-ad10-b46b20a2c362",
   "metadata": {},
   "outputs": [
    {
     "name": "stdout",
     "output_type": "stream",
     "text": [
      "1st Input array : \n",
      "  [1 2 3]\n",
      "2nd Input array : \n",
      "  [4 5 6]\n",
      "\n",
      " Output horizontally stacked array:\n",
      "   [[1 2 3]\n",
      " [4 5 6]]\n"
     ]
    }
   ],
   "source": [
    "in_arr1 = np.array([1, 2, 3])\n",
    "print(\"1st Input array : \\n \", in_arr1)\n",
    "\n",
    "in_arr2 = np.array([4, 5, 6])\n",
    "print(\"2nd Input array : \\n \", in_arr2)\n",
    "\n",
    "out_arr = np.vstack((in_arr1, in_arr2))\n",
    "print(\"\\n Output horizontally stacked array:\\n  \", out_arr)"
   ]
  },
  {
   "cell_type": "code",
   "execution_count": 4,
   "id": "623b77f3-ea3a-4f08-8930-fc8d520c1bbb",
   "metadata": {},
   "outputs": [
    {
     "name": "stdout",
     "output_type": "stream",
     "text": [
      "[  0   3   6   9  12  15  18  21  24  27  30  33  36  39  42  45  48  51\n",
      "  54  57  60  63  66  69  72  75  78  81  84  87  90  93  96  99 102 105\n",
      " 108 111 114 117 120 123 126 129 132 135 138 141 144 147 150 153 156 159\n",
      " 162 165 168 171 174 177 180 183 186 189 192 195 198 201 204 207 210 213\n",
      " 216 219 222 225 228 231 234 237 240 243 246 249 252 255]\n"
     ]
    }
   ],
   "source": [
    "import numpy as np\n",
    "list = [x for x in range(0, 257, 3)]\n",
    "\n",
    "n = np.array(list)\n",
    "\n",
    "print(n)"
   ]
  },
  {
   "cell_type": "code",
   "execution_count": 5,
   "id": "d63d26c4-8dd6-411a-bce8-32b0aa452473",
   "metadata": {},
   "outputs": [
    {
     "name": "stdout",
     "output_type": "stream",
     "text": [
      "[ 0  2  4  6  8 10 12 14 16 18 20 22 24 26 28 30 32 34 36 38 40 42 44 46\n",
      " 48 50]\n"
     ]
    }
   ],
   "source": [
    "list2 = [x for x in range(0, 51, 2)]\n",
    "\n",
    "n = np.array(list2)\n",
    "\n",
    "print(n)"
   ]
  },
  {
   "cell_type": "code",
   "execution_count": null,
   "id": "39255f3a-8032-49d6-a74c-201398889e5a",
   "metadata": {},
   "outputs": [],
   "source": []
  }
 ],
 "metadata": {
  "kernelspec": {
   "display_name": "Python 3 (ipykernel)",
   "language": "python",
   "name": "python3"
  },
  "language_info": {
   "codemirror_mode": {
    "name": "ipython",
    "version": 3
   },
   "file_extension": ".py",
   "mimetype": "text/x-python",
   "name": "python",
   "nbconvert_exporter": "python",
   "pygments_lexer": "ipython3",
   "version": "3.9.13"
  }
 },
 "nbformat": 4,
 "nbformat_minor": 5
}
